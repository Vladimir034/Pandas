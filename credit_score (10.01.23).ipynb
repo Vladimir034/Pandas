{
 "cells": [
  {
   "cell_type": "markdown",
   "id": "20892906",
   "metadata": {},
   "source": [
    "### Импорт библдиотеки и считывание 'csv' файла "
   ]
  },
  {
   "cell_type": "code",
   "execution_count": 1,
   "id": "c28e2dd2",
   "metadata": {},
   "outputs": [],
   "source": [
    "import pandas as pd\n",
    "import numpy as np"
   ]
  },
  {
   "cell_type": "code",
   "execution_count": 2,
   "id": "2cfd0426",
   "metadata": {
    "scrolled": false
   },
   "outputs": [
    {
     "data": {
      "text/html": [
       "<div>\n",
       "<style scoped>\n",
       "    .dataframe tbody tr th:only-of-type {\n",
       "        vertical-align: middle;\n",
       "    }\n",
       "\n",
       "    .dataframe tbody tr th {\n",
       "        vertical-align: top;\n",
       "    }\n",
       "\n",
       "    .dataframe thead th {\n",
       "        text-align: right;\n",
       "    }\n",
       "</style>\n",
       "<table border=\"1\" class=\"dataframe\">\n",
       "  <thead>\n",
       "    <tr style=\"text-align: right;\">\n",
       "      <th></th>\n",
       "      <th>defaulted</th>\n",
       "      <th>age</th>\n",
       "      <th>DebtRatio</th>\n",
       "      <th>MonthlyIncome</th>\n",
       "      <th>NumberOfOpenCreditLinesAndLoans</th>\n",
       "      <th>NumberRealEstateLoansOrLines</th>\n",
       "      <th>NumberOfDependents</th>\n",
       "      <th>age_group</th>\n",
       "    </tr>\n",
       "  </thead>\n",
       "  <tbody>\n",
       "    <tr>\n",
       "      <th>0</th>\n",
       "      <td>1</td>\n",
       "      <td>45</td>\n",
       "      <td>0.802982</td>\n",
       "      <td>9120.0</td>\n",
       "      <td>13</td>\n",
       "      <td>6</td>\n",
       "      <td>2.0</td>\n",
       "      <td>2</td>\n",
       "    </tr>\n",
       "    <tr>\n",
       "      <th>1</th>\n",
       "      <td>0</td>\n",
       "      <td>40</td>\n",
       "      <td>0.121876</td>\n",
       "      <td>2600.0</td>\n",
       "      <td>4</td>\n",
       "      <td>0</td>\n",
       "      <td>1.0</td>\n",
       "      <td>2</td>\n",
       "    </tr>\n",
       "    <tr>\n",
       "      <th>2</th>\n",
       "      <td>0</td>\n",
       "      <td>38</td>\n",
       "      <td>0.085113</td>\n",
       "      <td>3042.0</td>\n",
       "      <td>2</td>\n",
       "      <td>0</td>\n",
       "      <td>0.0</td>\n",
       "      <td>2</td>\n",
       "    </tr>\n",
       "    <tr>\n",
       "      <th>3</th>\n",
       "      <td>0</td>\n",
       "      <td>30</td>\n",
       "      <td>0.036050</td>\n",
       "      <td>3300.0</td>\n",
       "      <td>5</td>\n",
       "      <td>0</td>\n",
       "      <td>0.0</td>\n",
       "      <td>1</td>\n",
       "    </tr>\n",
       "    <tr>\n",
       "      <th>4</th>\n",
       "      <td>0</td>\n",
       "      <td>49</td>\n",
       "      <td>0.024926</td>\n",
       "      <td>63588.0</td>\n",
       "      <td>7</td>\n",
       "      <td>1</td>\n",
       "      <td>0.0</td>\n",
       "      <td>2</td>\n",
       "    </tr>\n",
       "  </tbody>\n",
       "</table>\n",
       "</div>"
      ],
      "text/plain": [
       "   defaulted  age  DebtRatio  MonthlyIncome  NumberOfOpenCreditLinesAndLoans  \\\n",
       "0          1   45   0.802982         9120.0                               13   \n",
       "1          0   40   0.121876         2600.0                                4   \n",
       "2          0   38   0.085113         3042.0                                2   \n",
       "3          0   30   0.036050         3300.0                                5   \n",
       "4          0   49   0.024926        63588.0                                7   \n",
       "\n",
       "   NumberRealEstateLoansOrLines  NumberOfDependents  age_group  \n",
       "0                             6                 2.0          2  \n",
       "1                             0                 1.0          2  \n",
       "2                             0                 0.0          2  \n",
       "3                             0                 0.0          1  \n",
       "4                             1                 0.0          2  "
      ]
     },
     "execution_count": 2,
     "metadata": {},
     "output_type": "execute_result"
    }
   ],
   "source": [
    "dfc = pd.read_csv('credit_data.csv')\n",
    "dfc.head()"
   ]
  },
  {
   "cell_type": "markdown",
   "id": "1a5aa416",
   "metadata": {},
   "source": [
    "Размер таблицы данных"
   ]
  },
  {
   "cell_type": "code",
   "execution_count": 3,
   "id": "31c99dc2",
   "metadata": {},
   "outputs": [
    {
     "data": {
      "text/plain": [
       "(150000, 8)"
      ]
     },
     "execution_count": 3,
     "metadata": {},
     "output_type": "execute_result"
    }
   ],
   "source": [
    "dfc.shape"
   ]
  },
  {
   "cell_type": "markdown",
   "id": "f8f7cb8c",
   "metadata": {},
   "source": [
    "### Список заголовков столбцов, переименование"
   ]
  },
  {
   "cell_type": "code",
   "execution_count": 4,
   "id": "fe5612da",
   "metadata": {},
   "outputs": [
    {
     "data": {
      "text/plain": [
       "Index(['defaulted', 'age', 'DebtRatio', 'MonthlyIncome',\n",
       "       'NumberOfOpenCreditLinesAndLoans', 'NumberRealEstateLoansOrLines',\n",
       "       'NumberOfDependents', 'age_group'],\n",
       "      dtype='object')"
      ]
     },
     "execution_count": 4,
     "metadata": {},
     "output_type": "execute_result"
    }
   ],
   "source": [
    "list(dfc)\n",
    "dfc.columns"
   ]
  },
  {
   "cell_type": "code",
   "execution_count": 5,
   "id": "e3791c61",
   "metadata": {
    "scrolled": true
   },
   "outputs": [],
   "source": [
    "dfc.rename(columns={'MonthlyIncome':'M_Income','NumberOfOpenCreditLinesAndLoans':'OpenCrLines',\n",
    "                    'NumberRealEstateLoansOrLines': 'RealEstateLoans', 'NumberOfDependents':'N_ofDependents'}, inplace=True)"
   ]
  },
  {
   "cell_type": "code",
   "execution_count": 6,
   "id": "6ecd0c59",
   "metadata": {},
   "outputs": [
    {
     "data": {
      "text/html": [
       "<div>\n",
       "<style scoped>\n",
       "    .dataframe tbody tr th:only-of-type {\n",
       "        vertical-align: middle;\n",
       "    }\n",
       "\n",
       "    .dataframe tbody tr th {\n",
       "        vertical-align: top;\n",
       "    }\n",
       "\n",
       "    .dataframe thead th {\n",
       "        text-align: right;\n",
       "    }\n",
       "</style>\n",
       "<table border=\"1\" class=\"dataframe\">\n",
       "  <thead>\n",
       "    <tr style=\"text-align: right;\">\n",
       "      <th></th>\n",
       "      <th>defaulted</th>\n",
       "      <th>age</th>\n",
       "      <th>DebtRatio</th>\n",
       "      <th>M_Income</th>\n",
       "      <th>OpenCrLines</th>\n",
       "      <th>RealEstateLoans</th>\n",
       "      <th>N_ofDependents</th>\n",
       "      <th>age_group</th>\n",
       "    </tr>\n",
       "  </thead>\n",
       "  <tbody>\n",
       "    <tr>\n",
       "      <th>0</th>\n",
       "      <td>1</td>\n",
       "      <td>45</td>\n",
       "      <td>0.802982</td>\n",
       "      <td>9120.0</td>\n",
       "      <td>13</td>\n",
       "      <td>6</td>\n",
       "      <td>2.0</td>\n",
       "      <td>2</td>\n",
       "    </tr>\n",
       "    <tr>\n",
       "      <th>1</th>\n",
       "      <td>0</td>\n",
       "      <td>40</td>\n",
       "      <td>0.121876</td>\n",
       "      <td>2600.0</td>\n",
       "      <td>4</td>\n",
       "      <td>0</td>\n",
       "      <td>1.0</td>\n",
       "      <td>2</td>\n",
       "    </tr>\n",
       "    <tr>\n",
       "      <th>2</th>\n",
       "      <td>0</td>\n",
       "      <td>38</td>\n",
       "      <td>0.085113</td>\n",
       "      <td>3042.0</td>\n",
       "      <td>2</td>\n",
       "      <td>0</td>\n",
       "      <td>0.0</td>\n",
       "      <td>2</td>\n",
       "    </tr>\n",
       "    <tr>\n",
       "      <th>3</th>\n",
       "      <td>0</td>\n",
       "      <td>30</td>\n",
       "      <td>0.036050</td>\n",
       "      <td>3300.0</td>\n",
       "      <td>5</td>\n",
       "      <td>0</td>\n",
       "      <td>0.0</td>\n",
       "      <td>1</td>\n",
       "    </tr>\n",
       "    <tr>\n",
       "      <th>4</th>\n",
       "      <td>0</td>\n",
       "      <td>49</td>\n",
       "      <td>0.024926</td>\n",
       "      <td>63588.0</td>\n",
       "      <td>7</td>\n",
       "      <td>1</td>\n",
       "      <td>0.0</td>\n",
       "      <td>2</td>\n",
       "    </tr>\n",
       "  </tbody>\n",
       "</table>\n",
       "</div>"
      ],
      "text/plain": [
       "   defaulted  age  DebtRatio  M_Income  OpenCrLines  RealEstateLoans  \\\n",
       "0          1   45   0.802982    9120.0           13                6   \n",
       "1          0   40   0.121876    2600.0            4                0   \n",
       "2          0   38   0.085113    3042.0            2                0   \n",
       "3          0   30   0.036050    3300.0            5                0   \n",
       "4          0   49   0.024926   63588.0            7                1   \n",
       "\n",
       "   N_ofDependents  age_group  \n",
       "0             2.0          2  \n",
       "1             1.0          2  \n",
       "2             0.0          2  \n",
       "3             0.0          1  \n",
       "4             0.0          2  "
      ]
     },
     "execution_count": 6,
     "metadata": {},
     "output_type": "execute_result"
    }
   ],
   "source": [
    "dfc.head()"
   ]
  },
  {
   "cell_type": "markdown",
   "id": "c0dcc76b",
   "metadata": {},
   "source": [
    "### Сумма и доля  пропусков в каждом столбце"
   ]
  },
  {
   "cell_type": "code",
   "execution_count": 7,
   "id": "bc73a763",
   "metadata": {
    "scrolled": false
   },
   "outputs": [
    {
     "data": {
      "text/plain": [
       "defaulted              0\n",
       "age                    0\n",
       "DebtRatio              0\n",
       "M_Income           29731\n",
       "OpenCrLines            0\n",
       "RealEstateLoans        0\n",
       "N_ofDependents      3924\n",
       "age_group              0\n",
       "dtype: int64"
      ]
     },
     "execution_count": 7,
     "metadata": {},
     "output_type": "execute_result"
    }
   ],
   "source": [
    "dfc.isnull().sum()"
   ]
  },
  {
   "cell_type": "code",
   "execution_count": 8,
   "id": "e0a41fc7",
   "metadata": {
    "scrolled": true
   },
   "outputs": [
    {
     "data": {
      "text/plain": [
       "defaulted          0.000000\n",
       "age                0.000000\n",
       "DebtRatio          0.000000\n",
       "M_Income           0.198207\n",
       "OpenCrLines        0.000000\n",
       "RealEstateLoans    0.000000\n",
       "N_ofDependents     0.026160\n",
       "age_group          0.000000\n",
       "dtype: float64"
      ]
     },
     "execution_count": 8,
     "metadata": {},
     "output_type": "execute_result"
    }
   ],
   "source": [
    "dfc.isnull().mean()"
   ]
  },
  {
   "cell_type": "markdown",
   "id": "b7d8d9ee",
   "metadata": {},
   "source": [
    "### Доля заемщиков кторые не выплатили кредит 'defaulted'"
   ]
  },
  {
   "cell_type": "code",
   "execution_count": 9,
   "id": "30592687",
   "metadata": {},
   "outputs": [
    {
     "data": {
      "text/plain": [
       "0.06684"
      ]
     },
     "execution_count": 9,
     "metadata": {},
     "output_type": "execute_result"
    }
   ],
   "source": [
    "dfc['defaulted'].mean()"
   ]
  },
  {
   "cell_type": "code",
   "execution_count": 10,
   "id": "07595162",
   "metadata": {},
   "outputs": [
    {
     "data": {
      "text/plain": [
       "0    139974\n",
       "1     10026\n",
       "Name: defaulted, dtype: int64"
      ]
     },
     "execution_count": 10,
     "metadata": {},
     "output_type": "execute_result"
    }
   ],
   "source": [
    "dfc['defaulted'].value_counts()"
   ]
  },
  {
   "cell_type": "markdown",
   "id": "128987ef",
   "metadata": {},
   "source": [
    "### Средний доход выше среднего M_Income, кол-во по доходам, сумма всего"
   ]
  },
  {
   "cell_type": "code",
   "execution_count": 11,
   "id": "220387f0",
   "metadata": {
    "scrolled": true
   },
   "outputs": [
    {
     "data": {
      "text/plain": [
       "M_Income\n",
       "10000.0      1466\n",
       "7000.0       1223\n",
       "8000.0       1127\n",
       "7500.0       1051\n",
       "10500.0      1013\n",
       "             ... \n",
       "13102.0         1\n",
       "13108.0         1\n",
       "13113.0         1\n",
       "13115.0         1\n",
       "3008750.0       1\n",
       "Length: 7654, dtype: int64"
      ]
     },
     "execution_count": 11,
     "metadata": {},
     "output_type": "execute_result"
    }
   ],
   "source": [
    "dfc_avg = dfc['M_Income'].mean() # среднее занчение len(df[df['team']=='A'])\n",
    "dfc[dfc['M_Income'] > dfc_avg].value_counts('M_Income')"
   ]
  },
  {
   "cell_type": "code",
   "execution_count": 12,
   "id": "001cea25",
   "metadata": {},
   "outputs": [
    {
     "data": {
      "text/plain": [
       "44146"
      ]
     },
     "execution_count": 12,
     "metadata": {},
     "output_type": "execute_result"
    }
   ],
   "source": [
    "len(dfc[dfc['M_Income'] > dfc_avg])"
   ]
  },
  {
   "cell_type": "markdown",
   "id": "5a6d9445",
   "metadata": {},
   "source": [
    "### Вычислите медианный возраст заемщиков, которые не вернули кредит (defaulted=1), он больше или меньше медианного возраста всех заемщиков?"
   ]
  },
  {
   "cell_type": "code",
   "execution_count": 13,
   "id": "b4adb9c2",
   "metadata": {},
   "outputs": [
    {
     "data": {
      "text/plain": [
       "defaulted\n",
       "0    52.0\n",
       "1    45.0\n",
       "Name: age, dtype: float64"
      ]
     },
     "execution_count": 13,
     "metadata": {},
     "output_type": "execute_result"
    }
   ],
   "source": [
    "dfc.groupby('defaulted')['age'].median()"
   ]
  },
  {
   "cell_type": "code",
   "execution_count": 14,
   "id": "a2140635",
   "metadata": {},
   "outputs": [
    {
     "name": "stdout",
     "output_type": "stream",
     "text": [
      "45.0\n"
     ]
    }
   ],
   "source": [
    "age1 = dfc[(dfc['defaulted']==1)].median()['age']\n",
    "print(age1)"
   ]
  },
  {
   "cell_type": "code",
   "execution_count": 15,
   "id": "512ba14d",
   "metadata": {},
   "outputs": [
    {
     "name": "stdout",
     "output_type": "stream",
     "text": [
      "52.0\n"
     ]
    }
   ],
   "source": [
    "age2 =dfc['age'].median()\n",
    "print(age2)"
   ]
  },
  {
   "cell_type": "code",
   "execution_count": 16,
   "id": "20f290b5",
   "metadata": {
    "scrolled": true
   },
   "outputs": [
    {
     "name": "stdout",
     "output_type": "stream",
     "text": [
      "разность возраста не вернувших кредит и всех заемщиков: -7.0\n"
     ]
    }
   ],
   "source": [
    "print('разность возраста не вернувших кредит и всех заемщиков:', age1 - age2)"
   ]
  },
  {
   "cell_type": "markdown",
   "id": "2ba2e13e",
   "metadata": {},
   "source": [
    "### Сколько заемщиков старше 40 лет имеют ежемесячный доход больше среднего ежемесячного дохода по всей выборке?"
   ]
  },
  {
   "cell_type": "code",
   "execution_count": 17,
   "id": "c6acf46e",
   "metadata": {
    "scrolled": true
   },
   "outputs": [
    {
     "data": {
      "text/html": [
       "<div>\n",
       "<style scoped>\n",
       "    .dataframe tbody tr th:only-of-type {\n",
       "        vertical-align: middle;\n",
       "    }\n",
       "\n",
       "    .dataframe tbody tr th {\n",
       "        vertical-align: top;\n",
       "    }\n",
       "\n",
       "    .dataframe thead th {\n",
       "        text-align: right;\n",
       "    }\n",
       "</style>\n",
       "<table border=\"1\" class=\"dataframe\">\n",
       "  <thead>\n",
       "    <tr style=\"text-align: right;\">\n",
       "      <th></th>\n",
       "      <th>defaulted</th>\n",
       "      <th>age</th>\n",
       "      <th>DebtRatio</th>\n",
       "      <th>M_Income</th>\n",
       "      <th>OpenCrLines</th>\n",
       "      <th>RealEstateLoans</th>\n",
       "      <th>N_ofDependents</th>\n",
       "      <th>age_group</th>\n",
       "    </tr>\n",
       "  </thead>\n",
       "  <tbody>\n",
       "    <tr>\n",
       "      <th>0</th>\n",
       "      <td>1</td>\n",
       "      <td>45</td>\n",
       "      <td>0.802982</td>\n",
       "      <td>9120.0</td>\n",
       "      <td>13</td>\n",
       "      <td>6</td>\n",
       "      <td>2.0</td>\n",
       "      <td>2</td>\n",
       "    </tr>\n",
       "    <tr>\n",
       "      <th>4</th>\n",
       "      <td>0</td>\n",
       "      <td>49</td>\n",
       "      <td>0.024926</td>\n",
       "      <td>63588.0</td>\n",
       "      <td>7</td>\n",
       "      <td>1</td>\n",
       "      <td>0.0</td>\n",
       "      <td>2</td>\n",
       "    </tr>\n",
       "    <tr>\n",
       "      <th>9</th>\n",
       "      <td>0</td>\n",
       "      <td>57</td>\n",
       "      <td>0.606291</td>\n",
       "      <td>23684.0</td>\n",
       "      <td>9</td>\n",
       "      <td>4</td>\n",
       "      <td>2.0</td>\n",
       "      <td>3</td>\n",
       "    </tr>\n",
       "    <tr>\n",
       "      <th>12</th>\n",
       "      <td>0</td>\n",
       "      <td>46</td>\n",
       "      <td>0.298354</td>\n",
       "      <td>12454.0</td>\n",
       "      <td>13</td>\n",
       "      <td>2</td>\n",
       "      <td>2.0</td>\n",
       "      <td>2</td>\n",
       "    </tr>\n",
       "    <tr>\n",
       "      <th>15</th>\n",
       "      <td>0</td>\n",
       "      <td>64</td>\n",
       "      <td>0.209892</td>\n",
       "      <td>11362.0</td>\n",
       "      <td>7</td>\n",
       "      <td>1</td>\n",
       "      <td>2.0</td>\n",
       "      <td>3</td>\n",
       "    </tr>\n",
       "    <tr>\n",
       "      <th>...</th>\n",
       "      <td>...</td>\n",
       "      <td>...</td>\n",
       "      <td>...</td>\n",
       "      <td>...</td>\n",
       "      <td>...</td>\n",
       "      <td>...</td>\n",
       "      <td>...</td>\n",
       "      <td>...</td>\n",
       "    </tr>\n",
       "    <tr>\n",
       "      <th>149979</th>\n",
       "      <td>1</td>\n",
       "      <td>55</td>\n",
       "      <td>0.057235</td>\n",
       "      <td>8700.0</td>\n",
       "      <td>7</td>\n",
       "      <td>0</td>\n",
       "      <td>0.0</td>\n",
       "      <td>3</td>\n",
       "    </tr>\n",
       "    <tr>\n",
       "      <th>149981</th>\n",
       "      <td>0</td>\n",
       "      <td>43</td>\n",
       "      <td>0.121752</td>\n",
       "      <td>6849.0</td>\n",
       "      <td>4</td>\n",
       "      <td>0</td>\n",
       "      <td>4.0</td>\n",
       "      <td>2</td>\n",
       "    </tr>\n",
       "    <tr>\n",
       "      <th>149989</th>\n",
       "      <td>0</td>\n",
       "      <td>62</td>\n",
       "      <td>0.001408</td>\n",
       "      <td>9233.0</td>\n",
       "      <td>4</td>\n",
       "      <td>0</td>\n",
       "      <td>3.0</td>\n",
       "      <td>3</td>\n",
       "    </tr>\n",
       "    <tr>\n",
       "      <th>149991</th>\n",
       "      <td>0</td>\n",
       "      <td>59</td>\n",
       "      <td>0.477658</td>\n",
       "      <td>10316.0</td>\n",
       "      <td>10</td>\n",
       "      <td>2</td>\n",
       "      <td>0.0</td>\n",
       "      <td>3</td>\n",
       "    </tr>\n",
       "    <tr>\n",
       "      <th>149999</th>\n",
       "      <td>0</td>\n",
       "      <td>64</td>\n",
       "      <td>0.249908</td>\n",
       "      <td>8158.0</td>\n",
       "      <td>8</td>\n",
       "      <td>2</td>\n",
       "      <td>0.0</td>\n",
       "      <td>3</td>\n",
       "    </tr>\n",
       "  </tbody>\n",
       "</table>\n",
       "<p>37629 rows × 8 columns</p>\n",
       "</div>"
      ],
      "text/plain": [
       "        defaulted  age  DebtRatio  M_Income  OpenCrLines  RealEstateLoans  \\\n",
       "0               1   45   0.802982    9120.0           13                6   \n",
       "4               0   49   0.024926   63588.0            7                1   \n",
       "9               0   57   0.606291   23684.0            9                4   \n",
       "12              0   46   0.298354   12454.0           13                2   \n",
       "15              0   64   0.209892   11362.0            7                1   \n",
       "...           ...  ...        ...       ...          ...              ...   \n",
       "149979          1   55   0.057235    8700.0            7                0   \n",
       "149981          0   43   0.121752    6849.0            4                0   \n",
       "149989          0   62   0.001408    9233.0            4                0   \n",
       "149991          0   59   0.477658   10316.0           10                2   \n",
       "149999          0   64   0.249908    8158.0            8                2   \n",
       "\n",
       "        N_ofDependents  age_group  \n",
       "0                  2.0          2  \n",
       "4                  0.0          2  \n",
       "9                  2.0          3  \n",
       "12                 2.0          2  \n",
       "15                 2.0          3  \n",
       "...                ...        ...  \n",
       "149979             0.0          3  \n",
       "149981             4.0          2  \n",
       "149989             3.0          3  \n",
       "149991             0.0          3  \n",
       "149999             0.0          3  \n",
       "\n",
       "[37629 rows x 8 columns]"
      ]
     },
     "execution_count": 17,
     "metadata": {},
     "output_type": "execute_result"
    }
   ],
   "source": [
    "avg = dfc['M_Income'].mean()\n",
    "\n",
    "dfc[(dfc['age']> 40) & (dfc['M_Income'] > avg)]"
   ]
  },
  {
   "cell_type": "code",
   "execution_count": null,
   "id": "48aa89ca",
   "metadata": {},
   "outputs": [],
   "source": []
  },
  {
   "cell_type": "markdown",
   "id": "077796bd",
   "metadata": {},
   "source": [
    "### Вычисление новых признаков и группировка данных, группировка заемщиков на 3 возрастные группы:"
   ]
  },
  {
   "cell_type": "code",
   "execution_count": 18,
   "id": "4bf30b9f",
   "metadata": {},
   "outputs": [
    {
     "data": {
      "text/html": [
       "<div>\n",
       "<style scoped>\n",
       "    .dataframe tbody tr th:only-of-type {\n",
       "        vertical-align: middle;\n",
       "    }\n",
       "\n",
       "    .dataframe tbody tr th {\n",
       "        vertical-align: top;\n",
       "    }\n",
       "\n",
       "    .dataframe thead th {\n",
       "        text-align: right;\n",
       "    }\n",
       "</style>\n",
       "<table border=\"1\" class=\"dataframe\">\n",
       "  <thead>\n",
       "    <tr style=\"text-align: right;\">\n",
       "      <th></th>\n",
       "      <th>defaulted</th>\n",
       "      <th>age</th>\n",
       "      <th>DebtRatio</th>\n",
       "      <th>M_Income</th>\n",
       "      <th>OpenCrLines</th>\n",
       "      <th>RealEstateLoans</th>\n",
       "      <th>N_ofDependents</th>\n",
       "    </tr>\n",
       "    <tr>\n",
       "      <th>age_group</th>\n",
       "      <th></th>\n",
       "      <th></th>\n",
       "      <th></th>\n",
       "      <th></th>\n",
       "      <th></th>\n",
       "      <th></th>\n",
       "      <th></th>\n",
       "    </tr>\n",
       "  </thead>\n",
       "  <tbody>\n",
       "    <tr>\n",
       "      <th>1</th>\n",
       "      <td>10758</td>\n",
       "      <td>10758</td>\n",
       "      <td>10758</td>\n",
       "      <td>9053</td>\n",
       "      <td>10758</td>\n",
       "      <td>10758</td>\n",
       "      <td>10328</td>\n",
       "    </tr>\n",
       "    <tr>\n",
       "      <th>2</th>\n",
       "      <td>59376</td>\n",
       "      <td>59376</td>\n",
       "      <td>59376</td>\n",
       "      <td>50600</td>\n",
       "      <td>59376</td>\n",
       "      <td>59376</td>\n",
       "      <td>58690</td>\n",
       "    </tr>\n",
       "    <tr>\n",
       "      <th>3</th>\n",
       "      <td>79866</td>\n",
       "      <td>79866</td>\n",
       "      <td>79866</td>\n",
       "      <td>60616</td>\n",
       "      <td>79866</td>\n",
       "      <td>79866</td>\n",
       "      <td>77058</td>\n",
       "    </tr>\n",
       "  </tbody>\n",
       "</table>\n",
       "</div>"
      ],
      "text/plain": [
       "           defaulted    age  DebtRatio  M_Income  OpenCrLines  \\\n",
       "age_group                                                       \n",
       "1              10758  10758      10758      9053        10758   \n",
       "2              59376  59376      59376     50600        59376   \n",
       "3              79866  79866      79866     60616        79866   \n",
       "\n",
       "           RealEstateLoans  N_ofDependents  \n",
       "age_group                                   \n",
       "1                    10758           10328  \n",
       "2                    59376           58690  \n",
       "3                    79866           77058  "
      ]
     },
     "execution_count": 18,
     "metadata": {},
     "output_type": "execute_result"
    }
   ],
   "source": [
    "splits = dfc.groupby('age_group')\n",
    "splits.count()"
   ]
  },
  {
   "cell_type": "markdown",
   "id": "60d01853",
   "metadata": {},
   "source": [
    "Количество заемщиков в каждой возрастной группе \n",
    "Визуализация данные в виде гистограммы"
   ]
  },
  {
   "cell_type": "code",
   "execution_count": 19,
   "id": "3f802002",
   "metadata": {},
   "outputs": [],
   "source": [
    "import matplotlib.pyplot as plt"
   ]
  },
  {
   "cell_type": "code",
   "execution_count": 20,
   "id": "908d0f3f",
   "metadata": {},
   "outputs": [],
   "source": [
    "%matplotlib inline"
   ]
  },
  {
   "cell_type": "markdown",
   "id": "8c28354f",
   "metadata": {},
   "source": [
    "### Количество заемщиков в каждой возрастной группе (age_group)"
   ]
  },
  {
   "cell_type": "code",
   "execution_count": 21,
   "id": "40ff7802",
   "metadata": {
    "scrolled": true
   },
   "outputs": [
    {
     "name": "stdout",
     "output_type": "stream",
     "text": [
      "3    79866\n",
      "2    59376\n",
      "1    10758\n",
      "Name: age_group, dtype: int64\n"
     ]
    }
   ],
   "source": [
    "age_g = dfc['age_group'].value_counts()\n",
    "print(age_g)"
   ]
  },
  {
   "cell_type": "code",
   "execution_count": 22,
   "id": "2e31d6be",
   "metadata": {
    "scrolled": false
   },
   "outputs": [
    {
     "data": {
      "image/png": "[encoded data removed]",
      "text/plain": [
       "<Figure size 432x288 with 1 Axes>"
      ]
     },
     "metadata": {
      "needs_background": "light"
     },
     "output_type": "display_data"
    }
   ],
   "source": [
    "plt.title('кол-во заемщиков по возрастным группам')\n",
    "age_g.plot(kind=\"bar\");"
   ]
  },
  {
   "cell_type": "markdown",
   "id": "c68a46e0",
   "metadata": {},
   "source": [
    "кол-во заемщиков, которые не вернули кредит, по возрастным группам "
   ]
  },
  {
   "cell_type": "code",
   "execution_count": 23,
   "id": "09d030f7",
   "metadata": {
    "scrolled": false
   },
   "outputs": [
    {
     "data": {
      "text/plain": [
       "defaulted  age_group\n",
       "0          3            76367\n",
       "           2            54093\n",
       "           1             9514\n",
       "1          2             5283\n",
       "           3             3499\n",
       "           1             1244\n",
       "Name: age_group, dtype: int64"
      ]
     },
     "execution_count": 23,
     "metadata": {},
     "output_type": "execute_result"
    }
   ],
   "source": [
    "dfc.groupby('defaulted')['age_group'].value_counts()"
   ]
  },
  {
   "cell_type": "markdown",
   "id": "3c2651cd",
   "metadata": {},
   "source": [
    "### кол-во(доля %) заемщиков, которые не вернули кредит, по возрастным группам "
   ]
  },
  {
   "cell_type": "code",
   "execution_count": 24,
   "id": "e7d6db72",
   "metadata": {
    "scrolled": false
   },
   "outputs": [
    {
     "name": "stdout",
     "output_type": "stream",
     "text": [
      "age_group\n",
      "1    0.115635\n",
      "2    0.088975\n",
      "3    0.043811\n",
      "Name: defaulted, dtype: float64\n"
     ]
    },
    {
     "data": {
      "image/png": "[encoded data removed]",
      "text/plain": [
       "<Figure size 432x288 with 1 Axes>"
      ]
     },
     "metadata": {
      "needs_background": "light"
     },
     "output_type": "display_data"
    }
   ],
   "source": [
    "age_g1 = dfc.groupby('age_group')['defaulted'].mean()\n",
    "print(age_g1);\n",
    "plt.title('доля % заемщиков, которые не вернули кредит от общего числа заемщиков') \n",
    "age_g1.plot(kind=\"bar\");"
   ]
  },
  {
   "cell_type": "markdown",
   "id": "50bb84c8",
   "metadata": {},
   "source": [
    "### кол-во заемщиков, которые не вернули кредит"
   ]
  },
  {
   "cell_type": "code",
   "execution_count": 25,
   "id": "a16ac888",
   "metadata": {
    "scrolled": true
   },
   "outputs": [
    {
     "name": "stdout",
     "output_type": "stream",
     "text": [
      "2    5283\n",
      "3    3499\n",
      "1    1244\n",
      "Name: age_group, dtype: int64\n"
     ]
    },
    {
     "data": {
      "image/png": "[encoded data removed]",
      "text/plain": [
       "<Figure size 432x288 with 1 Axes>"
      ]
     },
     "metadata": {
      "needs_background": "light"
     },
     "output_type": "display_data"
    }
   ],
   "source": [
    "def_1 = dfc[dfc['defaulted']==1]['age_group'].value_counts();\n",
    "print(def_1);\n",
    "def_1.plot.bar();\n",
    "plt.title('кол-во заемщиков, которые не вернули кредит'); "
   ]
  },
  {
   "cell_type": "markdown",
   "id": "16013cb9",
   "metadata": {},
   "source": [
    "### Вычислите новый признак alone_and_poor, который равен 1 у заемщиков, которые не содержат никого, кроме себя (NumberOfDependents == 0) и у которых месячный доход (MonthlyIncome) меньше 10% квантили по этому признаку среди всех заемщиков. Инече этот признак сделайте равным 0"
   ]
  },
  {
   "cell_type": "markdown",
   "id": "bad3613d",
   "metadata": {},
   "source": [
    "Максмальный месячный доход у заемщиков которые содержат только себя "
   ]
  },
  {
   "cell_type": "code",
   "execution_count": 26,
   "id": "a941ace7",
   "metadata": {},
   "outputs": [
    {
     "data": {
      "text/plain": [
       "1794060.0"
      ]
     },
     "execution_count": 26,
     "metadata": {},
     "output_type": "execute_result"
    }
   ],
   "source": [
    "dfc[(dfc['N_ofDependents']==0)]['M_Income'].max() #sort_values(ascending=False)"
   ]
  },
  {
   "cell_type": "markdown",
   "id": "ab953443",
   "metadata": {},
   "source": [
    "Определение квантили max месячного дохода "
   ]
  },
  {
   "cell_type": "code",
   "execution_count": 27,
   "id": "4e481de8",
   "metadata": {},
   "outputs": [
    {
     "name": "stdout",
     "output_type": "stream",
     "text": [
      "2005.0\n"
     ]
    }
   ],
   "source": [
    "dfc_kvan =  dfc['M_Income'].quantile(.10)\n",
    "print(dfc_kvan)"
   ]
  },
  {
   "cell_type": "markdown",
   "id": "f4c1be01",
   "metadata": {},
   "source": [
    "### Определения у кого из заемщиков котрые не содеражт никого кроме себя доход ниже 10% квантили дохода всех заемщиков, добавление столбца 'alone_and_poor' с признаком  1  и 0, подсчет кол-во 'alone_and_poor'"
   ]
  },
  {
   "cell_type": "code",
   "execution_count": 28,
   "id": "d9142cbe",
   "metadata": {},
   "outputs": [],
   "source": [
    "dfc['alone_and_poor']= np.where(dfc['M_Income'] < dfc_kvan, '1', '0')"
   ]
  },
  {
   "cell_type": "code",
   "execution_count": 29,
   "id": "a686d38b",
   "metadata": {
    "scrolled": true
   },
   "outputs": [
    {
     "data": {
      "text/html": [
       "<div>\n",
       "<style scoped>\n",
       "    .dataframe tbody tr th:only-of-type {\n",
       "        vertical-align: middle;\n",
       "    }\n",
       "\n",
       "    .dataframe tbody tr th {\n",
       "        vertical-align: top;\n",
       "    }\n",
       "\n",
       "    .dataframe thead th {\n",
       "        text-align: right;\n",
       "    }\n",
       "</style>\n",
       "<table border=\"1\" class=\"dataframe\">\n",
       "  <thead>\n",
       "    <tr style=\"text-align: right;\">\n",
       "      <th></th>\n",
       "      <th>defaulted</th>\n",
       "      <th>age</th>\n",
       "      <th>DebtRatio</th>\n",
       "      <th>M_Income</th>\n",
       "      <th>OpenCrLines</th>\n",
       "      <th>RealEstateLoans</th>\n",
       "      <th>N_ofDependents</th>\n",
       "      <th>age_group</th>\n",
       "      <th>alone_and_poor</th>\n",
       "    </tr>\n",
       "  </thead>\n",
       "  <tbody>\n",
       "    <tr>\n",
       "      <th>73555</th>\n",
       "      <td>0</td>\n",
       "      <td>70</td>\n",
       "      <td>0.058853</td>\n",
       "      <td>2004.0</td>\n",
       "      <td>1</td>\n",
       "      <td>0</td>\n",
       "      <td>0.0</td>\n",
       "      <td>3</td>\n",
       "      <td>1</td>\n",
       "    </tr>\n",
       "    <tr>\n",
       "      <th>133958</th>\n",
       "      <td>0</td>\n",
       "      <td>30</td>\n",
       "      <td>0.175561</td>\n",
       "      <td>2004.0</td>\n",
       "      <td>3</td>\n",
       "      <td>0</td>\n",
       "      <td>0.0</td>\n",
       "      <td>1</td>\n",
       "      <td>1</td>\n",
       "    </tr>\n",
       "    <tr>\n",
       "      <th>112030</th>\n",
       "      <td>0</td>\n",
       "      <td>69</td>\n",
       "      <td>0.147705</td>\n",
       "      <td>2003.0</td>\n",
       "      <td>6</td>\n",
       "      <td>0</td>\n",
       "      <td>0.0</td>\n",
       "      <td>3</td>\n",
       "      <td>1</td>\n",
       "    </tr>\n",
       "    <tr>\n",
       "      <th>109759</th>\n",
       "      <td>0</td>\n",
       "      <td>58</td>\n",
       "      <td>0.006990</td>\n",
       "      <td>2002.0</td>\n",
       "      <td>1</td>\n",
       "      <td>0</td>\n",
       "      <td>0.0</td>\n",
       "      <td>3</td>\n",
       "      <td>1</td>\n",
       "    </tr>\n",
       "    <tr>\n",
       "      <th>111366</th>\n",
       "      <td>0</td>\n",
       "      <td>72</td>\n",
       "      <td>0.846730</td>\n",
       "      <td>2002.0</td>\n",
       "      <td>15</td>\n",
       "      <td>2</td>\n",
       "      <td>0.0</td>\n",
       "      <td>3</td>\n",
       "      <td>1</td>\n",
       "    </tr>\n",
       "    <tr>\n",
       "      <th>...</th>\n",
       "      <td>...</td>\n",
       "      <td>...</td>\n",
       "      <td>...</td>\n",
       "      <td>...</td>\n",
       "      <td>...</td>\n",
       "      <td>...</td>\n",
       "      <td>...</td>\n",
       "      <td>...</td>\n",
       "      <td>...</td>\n",
       "    </tr>\n",
       "    <tr>\n",
       "      <th>52475</th>\n",
       "      <td>1</td>\n",
       "      <td>24</td>\n",
       "      <td>382.000000</td>\n",
       "      <td>0.0</td>\n",
       "      <td>3</td>\n",
       "      <td>0</td>\n",
       "      <td>0.0</td>\n",
       "      <td>1</td>\n",
       "      <td>1</td>\n",
       "    </tr>\n",
       "    <tr>\n",
       "      <th>126777</th>\n",
       "      <td>0</td>\n",
       "      <td>40</td>\n",
       "      <td>164.000000</td>\n",
       "      <td>0.0</td>\n",
       "      <td>12</td>\n",
       "      <td>0</td>\n",
       "      <td>0.0</td>\n",
       "      <td>2</td>\n",
       "      <td>1</td>\n",
       "    </tr>\n",
       "    <tr>\n",
       "      <th>52961</th>\n",
       "      <td>0</td>\n",
       "      <td>80</td>\n",
       "      <td>3617.000000</td>\n",
       "      <td>0.0</td>\n",
       "      <td>11</td>\n",
       "      <td>5</td>\n",
       "      <td>0.0</td>\n",
       "      <td>3</td>\n",
       "      <td>1</td>\n",
       "    </tr>\n",
       "    <tr>\n",
       "      <th>53004</th>\n",
       "      <td>0</td>\n",
       "      <td>26</td>\n",
       "      <td>6.000000</td>\n",
       "      <td>0.0</td>\n",
       "      <td>2</td>\n",
       "      <td>0</td>\n",
       "      <td>0.0</td>\n",
       "      <td>1</td>\n",
       "      <td>1</td>\n",
       "    </tr>\n",
       "    <tr>\n",
       "      <th>14</th>\n",
       "      <td>0</td>\n",
       "      <td>76</td>\n",
       "      <td>477.000000</td>\n",
       "      <td>0.0</td>\n",
       "      <td>6</td>\n",
       "      <td>1</td>\n",
       "      <td>0.0</td>\n",
       "      <td>3</td>\n",
       "      <td>1</td>\n",
       "    </tr>\n",
       "  </tbody>\n",
       "</table>\n",
       "<p>8719 rows × 9 columns</p>\n",
       "</div>"
      ],
      "text/plain": [
       "        defaulted  age    DebtRatio  M_Income  OpenCrLines  RealEstateLoans  \\\n",
       "73555           0   70     0.058853    2004.0            1                0   \n",
       "133958          0   30     0.175561    2004.0            3                0   \n",
       "112030          0   69     0.147705    2003.0            6                0   \n",
       "109759          0   58     0.006990    2002.0            1                0   \n",
       "111366          0   72     0.846730    2002.0           15                2   \n",
       "...           ...  ...          ...       ...          ...              ...   \n",
       "52475           1   24   382.000000       0.0            3                0   \n",
       "126777          0   40   164.000000       0.0           12                0   \n",
       "52961           0   80  3617.000000       0.0           11                5   \n",
       "53004           0   26     6.000000       0.0            2                0   \n",
       "14              0   76   477.000000       0.0            6                1   \n",
       "\n",
       "        N_ofDependents  age_group alone_and_poor  \n",
       "73555              0.0          3              1  \n",
       "133958             0.0          1              1  \n",
       "112030             0.0          3              1  \n",
       "109759             0.0          3              1  \n",
       "111366             0.0          3              1  \n",
       "...                ...        ...            ...  \n",
       "52475              0.0          1              1  \n",
       "126777             0.0          2              1  \n",
       "52961              0.0          3              1  \n",
       "53004              0.0          1              1  \n",
       "14                 0.0          3              1  \n",
       "\n",
       "[8719 rows x 9 columns]"
      ]
     },
     "execution_count": 29,
     "metadata": {},
     "output_type": "execute_result"
    }
   ],
   "source": [
    "dfc[(dfc['N_ofDependents']==0) & (dfc['M_Income'] < dfc_kvan)].sort_values('M_Income',ascending = False)"
   ]
  },
  {
   "cell_type": "code",
   "execution_count": 30,
   "id": "d88624de",
   "metadata": {},
   "outputs": [
    {
     "data": {
      "text/plain": [
       "0    137974\n",
       "1     12026\n",
       "Name: alone_and_poor, dtype: int64"
      ]
     },
     "execution_count": 30,
     "metadata": {},
     "output_type": "execute_result"
    }
   ],
   "source": [
    "dfc['alone_and_poor'].value_counts()"
   ]
  },
  {
   "cell_type": "markdown",
   "id": "ada5504c",
   "metadata": {},
   "source": [
    "### Визуализация полученных данных "
   ]
  },
  {
   "cell_type": "code",
   "execution_count": 31,
   "id": "d82b8fc4",
   "metadata": {},
   "outputs": [],
   "source": [
    "from matplotlib import pyplot as plt"
   ]
  },
  {
   "cell_type": "code",
   "execution_count": 32,
   "id": "6ad3ca80",
   "metadata": {
    "scrolled": true
   },
   "outputs": [
    {
     "data": {
      "text/plain": [
       "<AxesSubplot:ylabel='Frequency'>"
      ]
     },
     "execution_count": 32,
     "metadata": {},
     "output_type": "execute_result"
    },
    {
     "data": {
      "image/png": "[encoded data removed]",
      "text/plain": [
       "<Figure size 432x288 with 1 Axes>"
      ]
     },
     "metadata": {
      "needs_background": "light"
     },
     "output_type": "display_data"
    }
   ],
   "source": [
    "age_plot = dfc['age'].value_counts() # распределения возрастов всех заемщиков\n",
    "age_plot.plot.hist( x = 'age')"
   ]
  },
  {
   "cell_type": "code",
   "execution_count": 33,
   "id": "203e4f2e",
   "metadata": {
    "scrolled": false
   },
   "outputs": [
    {
     "data": {
      "image/png": "[encoded data removed]",
      "text/plain": [
       "<Figure size 432x288 with 1 Axes>"
      ]
     },
     "metadata": {
      "needs_background": "light"
     },
     "output_type": "display_data"
    }
   ],
   "source": [
    "dfc['age'].plot.hist( x = 'age') # распределения возрастов всех заемщиков\n",
    "plt.grid()"
   ]
  },
  {
   "cell_type": "code",
   "execution_count": 34,
   "id": "eabe13e9",
   "metadata": {},
   "outputs": [
    {
     "data": {
      "image/png": "[encoded data removed]",
      "text/plain": [
       "<Figure size 432x288 with 1 Axes>"
      ]
     },
     "metadata": {
      "needs_background": "light"
     },
     "output_type": "display_data"
    }
   ],
   "source": [
    "dfc['age'].plot.hist(bins=30) # распределения возрастов всех заемщиков поделенное на 30 интервалов\n",
    "plt.grid()"
   ]
  },
  {
   "cell_type": "markdown",
   "id": "559d3980",
   "metadata": {},
   "source": [
    "Визуализация полученных данных с библиотекой  seaborn"
   ]
  },
  {
   "cell_type": "code",
   "execution_count": 35,
   "id": "563ef743",
   "metadata": {},
   "outputs": [],
   "source": [
    "import seaborn as sns"
   ]
  },
  {
   "cell_type": "markdown",
   "id": "a96f0941",
   "metadata": {},
   "source": [
    "### Распределения числа открытых кредитных линий"
   ]
  },
  {
   "cell_type": "code",
   "execution_count": 36,
   "id": "42c3b879",
   "metadata": {
    "scrolled": true
   },
   "outputs": [
    {
     "data": {
      "image/png": "[encoded data removed]",
      "text/plain": [
       "<Figure size 360x360 with 1 Axes>"
      ]
     },
     "metadata": {
      "needs_background": "light"
     },
     "output_type": "display_data"
    }
   ],
   "source": [
    "sns.displot(x = dfc.OpenCrLines, kde=True)\n",
    "plt.grid()\n",
    "plt.title('распределение числа открытых кредитных линий у клинетов банка')\n",
    "plt.xlabel('Кол-во открытых крдитных линий у одного клиента')\n",
    "plt.ylabel('кол-во клиентов');"
   ]
  },
  {
   "cell_type": "markdown",
   "id": "da651e36",
   "metadata": {},
   "source": [
    " ### Распределение признака NumberOfDependents для заемщиков, которые успешно вернули кредит"
   ]
  },
  {
   "cell_type": "code",
   "execution_count": 37,
   "id": "e491bfb2",
   "metadata": {
    "scrolled": true
   },
   "outputs": [
    {
     "data": {
      "image/png": "[encoded data removed]",
      "text/plain": [
       "<Figure size 432x288 with 1 Axes>"
      ]
     },
     "metadata": {
      "needs_background": "light"
     },
     "output_type": "display_data"
    }
   ],
   "source": [
    "dfc_defau = dfc[(dfc['N_ofDependents'] >=0) & (dfc['defaulted'] == 0)]\n",
    "\n",
    "sns.histplot(data = dfc_defau , x = 'N_ofDependents');"
   ]
  }
 ],
 "metadata": {
  "kernelspec": {
   "display_name": "Python 3 (ipykernel)",
   "language": "python",
   "name": "python3"
  },
  "language_info": {
   "codemirror_mode": {
    "name": "ipython",
    "version": 3
   },
   "file_extension": ".py",
   "mimetype": "text/x-python",
   "name": "python",
   "nbconvert_exporter": "python",
   "pygments_lexer": "ipython3",
   "version": "3.9.12"
  }
 },
 "nbformat": 4,
 "nbformat_minor": 5
}
