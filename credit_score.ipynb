{
 "cells": [
  {
   "cell_type": "markdown",
   "id": "20892906",
   "metadata": {},
   "source": [
    "Импорт библдиотеки и считывание 'csv' файла "
   ]
  },
  {
   "cell_type": "code",
   "execution_count": 53,
   "id": "c28e2dd2",
   "metadata": {},
   "outputs": [],
   "source": [
    "import pandas as pd"
   ]
  },
  {
   "cell_type": "code",
   "execution_count": 54,
   "id": "2cfd0426",
   "metadata": {
    "scrolled": true
   },
   "outputs": [
    {
     "data": {
      "text/html": [
       "<div>\n",
       "<style scoped>\n",
       "    .dataframe tbody tr th:only-of-type {\n",
       "        vertical-align: middle;\n",
       "    }\n",
       "\n",
       "    .dataframe tbody tr th {\n",
       "        vertical-align: top;\n",
       "    }\n",
       "\n",
       "    .dataframe thead th {\n",
       "        text-align: right;\n",
       "    }\n",
       "</style>\n",
       "<table border=\"1\" class=\"dataframe\">\n",
       "  <thead>\n",
       "    <tr style=\"text-align: right;\">\n",
       "      <th></th>\n",
       "      <th>defaulted</th>\n",
       "      <th>age</th>\n",
       "      <th>DebtRatio</th>\n",
       "      <th>MonthlyIncome</th>\n",
       "      <th>NumberOfOpenCreditLinesAndLoans</th>\n",
       "      <th>NumberRealEstateLoansOrLines</th>\n",
       "      <th>NumberOfDependents</th>\n",
       "      <th>age_group</th>\n",
       "    </tr>\n",
       "  </thead>\n",
       "  <tbody>\n",
       "    <tr>\n",
       "      <th>0</th>\n",
       "      <td>1</td>\n",
       "      <td>45</td>\n",
       "      <td>0.802982</td>\n",
       "      <td>9120.0</td>\n",
       "      <td>13</td>\n",
       "      <td>6</td>\n",
       "      <td>2.0</td>\n",
       "      <td>2</td>\n",
       "    </tr>\n",
       "    <tr>\n",
       "      <th>1</th>\n",
       "      <td>0</td>\n",
       "      <td>40</td>\n",
       "      <td>0.121876</td>\n",
       "      <td>2600.0</td>\n",
       "      <td>4</td>\n",
       "      <td>0</td>\n",
       "      <td>1.0</td>\n",
       "      <td>2</td>\n",
       "    </tr>\n",
       "    <tr>\n",
       "      <th>2</th>\n",
       "      <td>0</td>\n",
       "      <td>38</td>\n",
       "      <td>0.085113</td>\n",
       "      <td>3042.0</td>\n",
       "      <td>2</td>\n",
       "      <td>0</td>\n",
       "      <td>0.0</td>\n",
       "      <td>2</td>\n",
       "    </tr>\n",
       "    <tr>\n",
       "      <th>3</th>\n",
       "      <td>0</td>\n",
       "      <td>30</td>\n",
       "      <td>0.036050</td>\n",
       "      <td>3300.0</td>\n",
       "      <td>5</td>\n",
       "      <td>0</td>\n",
       "      <td>0.0</td>\n",
       "      <td>1</td>\n",
       "    </tr>\n",
       "    <tr>\n",
       "      <th>4</th>\n",
       "      <td>0</td>\n",
       "      <td>49</td>\n",
       "      <td>0.024926</td>\n",
       "      <td>63588.0</td>\n",
       "      <td>7</td>\n",
       "      <td>1</td>\n",
       "      <td>0.0</td>\n",
       "      <td>2</td>\n",
       "    </tr>\n",
       "  </tbody>\n",
       "</table>\n",
       "</div>"
      ],
      "text/plain": [
       "   defaulted  age  DebtRatio  MonthlyIncome  NumberOfOpenCreditLinesAndLoans  \\\n",
       "0          1   45   0.802982         9120.0                               13   \n",
       "1          0   40   0.121876         2600.0                                4   \n",
       "2          0   38   0.085113         3042.0                                2   \n",
       "3          0   30   0.036050         3300.0                                5   \n",
       "4          0   49   0.024926        63588.0                                7   \n",
       "\n",
       "   NumberRealEstateLoansOrLines  NumberOfDependents  age_group  \n",
       "0                             6                 2.0          2  \n",
       "1                             0                 1.0          2  \n",
       "2                             0                 0.0          2  \n",
       "3                             0                 0.0          1  \n",
       "4                             1                 0.0          2  "
      ]
     },
     "execution_count": 54,
     "metadata": {},
     "output_type": "execute_result"
    }
   ],
   "source": [
    "dfc = pd.read_csv('credit_data.csv')\n",
    "dfc.head()"
   ]
  },
  {
   "cell_type": "markdown",
   "id": "1a5aa416",
   "metadata": {},
   "source": [
    "Размер таблицы данных"
   ]
  },
  {
   "cell_type": "code",
   "execution_count": 55,
   "id": "31c99dc2",
   "metadata": {},
   "outputs": [
    {
     "data": {
      "text/plain": [
       "(150000, 8)"
      ]
     },
     "execution_count": 55,
     "metadata": {},
     "output_type": "execute_result"
    }
   ],
   "source": [
    "dfc.shape"
   ]
  },
  {
   "cell_type": "markdown",
   "id": "f8f7cb8c",
   "metadata": {},
   "source": [
    "Список заголовков столбцов"
   ]
  },
  {
   "cell_type": "code",
   "execution_count": 56,
   "id": "fe5612da",
   "metadata": {},
   "outputs": [
    {
     "data": {
      "text/plain": [
       "Index(['defaulted', 'age', 'DebtRatio', 'MonthlyIncome',\n",
       "       'NumberOfOpenCreditLinesAndLoans', 'NumberRealEstateLoansOrLines',\n",
       "       'NumberOfDependents', 'age_group'],\n",
       "      dtype='object')"
      ]
     },
     "execution_count": 56,
     "metadata": {},
     "output_type": "execute_result"
    }
   ],
   "source": [
    "list(dfc)\n",
    "dfc.columns"
   ]
  },
  {
   "cell_type": "code",
   "execution_count": 60,
   "id": "e3791c61",
   "metadata": {
    "scrolled": true
   },
   "outputs": [],
   "source": [
    "dfc.rename(columns={'MonthlyIncome':'M_Income','NumberOfOpenCreditLinesAndLoans':'OpenCrLines',\n",
    "                    'NumberRealEstateLoansOrLines': 'RealEstateLoans', 'NumberOfDependents':'Dependents'}, inplace=True)"
   ]
  },
  {
   "cell_type": "code",
   "execution_count": 57,
   "id": "6ecd0c59",
   "metadata": {},
   "outputs": [
    {
     "data": {
      "text/html": [
       "<div>\n",
       "<style scoped>\n",
       "    .dataframe tbody tr th:only-of-type {\n",
       "        vertical-align: middle;\n",
       "    }\n",
       "\n",
       "    .dataframe tbody tr th {\n",
       "        vertical-align: top;\n",
       "    }\n",
       "\n",
       "    .dataframe thead th {\n",
       "        text-align: right;\n",
       "    }\n",
       "</style>\n",
       "<table border=\"1\" class=\"dataframe\">\n",
       "  <thead>\n",
       "    <tr style=\"text-align: right;\">\n",
       "      <th></th>\n",
       "      <th>defaulted</th>\n",
       "      <th>age</th>\n",
       "      <th>DebtRatio</th>\n",
       "      <th>MonthlyIncome</th>\n",
       "      <th>NumberOfOpenCreditLinesAndLoans</th>\n",
       "      <th>NumberRealEstateLoansOrLines</th>\n",
       "      <th>NumberOfDependents</th>\n",
       "      <th>age_group</th>\n",
       "    </tr>\n",
       "  </thead>\n",
       "  <tbody>\n",
       "    <tr>\n",
       "      <th>0</th>\n",
       "      <td>1</td>\n",
       "      <td>45</td>\n",
       "      <td>0.802982</td>\n",
       "      <td>9120.0</td>\n",
       "      <td>13</td>\n",
       "      <td>6</td>\n",
       "      <td>2.0</td>\n",
       "      <td>2</td>\n",
       "    </tr>\n",
       "    <tr>\n",
       "      <th>1</th>\n",
       "      <td>0</td>\n",
       "      <td>40</td>\n",
       "      <td>0.121876</td>\n",
       "      <td>2600.0</td>\n",
       "      <td>4</td>\n",
       "      <td>0</td>\n",
       "      <td>1.0</td>\n",
       "      <td>2</td>\n",
       "    </tr>\n",
       "    <tr>\n",
       "      <th>2</th>\n",
       "      <td>0</td>\n",
       "      <td>38</td>\n",
       "      <td>0.085113</td>\n",
       "      <td>3042.0</td>\n",
       "      <td>2</td>\n",
       "      <td>0</td>\n",
       "      <td>0.0</td>\n",
       "      <td>2</td>\n",
       "    </tr>\n",
       "    <tr>\n",
       "      <th>3</th>\n",
       "      <td>0</td>\n",
       "      <td>30</td>\n",
       "      <td>0.036050</td>\n",
       "      <td>3300.0</td>\n",
       "      <td>5</td>\n",
       "      <td>0</td>\n",
       "      <td>0.0</td>\n",
       "      <td>1</td>\n",
       "    </tr>\n",
       "    <tr>\n",
       "      <th>4</th>\n",
       "      <td>0</td>\n",
       "      <td>49</td>\n",
       "      <td>0.024926</td>\n",
       "      <td>63588.0</td>\n",
       "      <td>7</td>\n",
       "      <td>1</td>\n",
       "      <td>0.0</td>\n",
       "      <td>2</td>\n",
       "    </tr>\n",
       "  </tbody>\n",
       "</table>\n",
       "</div>"
      ],
      "text/plain": [
       "   defaulted  age  DebtRatio  MonthlyIncome  NumberOfOpenCreditLinesAndLoans  \\\n",
       "0          1   45   0.802982         9120.0                               13   \n",
       "1          0   40   0.121876         2600.0                                4   \n",
       "2          0   38   0.085113         3042.0                                2   \n",
       "3          0   30   0.036050         3300.0                                5   \n",
       "4          0   49   0.024926        63588.0                                7   \n",
       "\n",
       "   NumberRealEstateLoansOrLines  NumberOfDependents  age_group  \n",
       "0                             6                 2.0          2  \n",
       "1                             0                 1.0          2  \n",
       "2                             0                 0.0          2  \n",
       "3                             0                 0.0          1  \n",
       "4                             1                 0.0          2  "
      ]
     },
     "execution_count": 57,
     "metadata": {},
     "output_type": "execute_result"
    }
   ],
   "source": [
    "dfc.head()"
   ]
  },
  {
   "cell_type": "markdown",
   "id": "c0dcc76b",
   "metadata": {},
   "source": [
    "Сумма и доля  пропусков в каждом столбце"
   ]
  },
  {
   "cell_type": "code",
   "execution_count": 48,
   "id": "bc73a763",
   "metadata": {
    "scrolled": false
   },
   "outputs": [
    {
     "data": {
      "text/plain": [
       "defaulted              0\n",
       "age                    0\n",
       "DebtRatio              0\n",
       "M_Income           29731\n",
       "OpenCrLines            0\n",
       "RealEstateLoans        0\n",
       "Dependents          3924\n",
       "age_group              0\n",
       "dtype: int64"
      ]
     },
     "execution_count": 48,
     "metadata": {},
     "output_type": "execute_result"
    }
   ],
   "source": [
    "dfc.isnull().sum()"
   ]
  },
  {
   "cell_type": "code",
   "execution_count": 49,
   "id": "e0a41fc7",
   "metadata": {
    "scrolled": true
   },
   "outputs": [
    {
     "data": {
      "text/plain": [
       "defaulted          0.000000\n",
       "age                0.000000\n",
       "DebtRatio          0.000000\n",
       "M_Income           0.198207\n",
       "OpenCrLines        0.000000\n",
       "RealEstateLoans    0.000000\n",
       "Dependents         0.026160\n",
       "age_group          0.000000\n",
       "dtype: float64"
      ]
     },
     "execution_count": 49,
     "metadata": {},
     "output_type": "execute_result"
    }
   ],
   "source": [
    "dfc.isnull().mean()"
   ]
  },
  {
   "cell_type": "markdown",
   "id": "b7d8d9ee",
   "metadata": {},
   "source": [
    "Доля заемщиков кторые не выплатили кредит 'defaulted'"
   ]
  },
  {
   "cell_type": "code",
   "execution_count": 5,
   "id": "30592687",
   "metadata": {},
   "outputs": [
    {
     "data": {
      "text/plain": [
       "0.06684"
      ]
     },
     "execution_count": 5,
     "metadata": {},
     "output_type": "execute_result"
    }
   ],
   "source": [
    "dfc['defaulted'].mean()"
   ]
  },
  {
   "cell_type": "code",
   "execution_count": 58,
   "id": "07595162",
   "metadata": {},
   "outputs": [
    {
     "data": {
      "text/plain": [
       "0    139974\n",
       "1     10026\n",
       "Name: defaulted, dtype: int64"
      ]
     },
     "execution_count": 58,
     "metadata": {},
     "output_type": "execute_result"
    }
   ],
   "source": [
    "dfc['defaulted'].value_counts()"
   ]
  },
  {
   "cell_type": "markdown",
   "id": "128987ef",
   "metadata": {},
   "source": [
    "Средний доход выше среднего M_Income, кол-во по доходам, сумма всего"
   ]
  },
  {
   "cell_type": "code",
   "execution_count": 61,
   "id": "220387f0",
   "metadata": {
    "scrolled": true
   },
   "outputs": [
    {
     "data": {
      "text/plain": [
       "M_Income\n",
       "10000.0      1466\n",
       "7000.0       1223\n",
       "8000.0       1127\n",
       "7500.0       1051\n",
       "10500.0      1013\n",
       "             ... \n",
       "13102.0         1\n",
       "13108.0         1\n",
       "13113.0         1\n",
       "13115.0         1\n",
       "3008750.0       1\n",
       "Length: 7654, dtype: int64"
      ]
     },
     "execution_count": 61,
     "metadata": {},
     "output_type": "execute_result"
    }
   ],
   "source": [
    "dfc_avg = dfc['M_Income'].mean() # среднее занчение len(df[df['team']=='A'])\n",
    "dfc[dfc['M_Income'] > dfc_avg].value_counts('M_Income')"
   ]
  },
  {
   "cell_type": "code",
   "execution_count": 102,
   "id": "001cea25",
   "metadata": {},
   "outputs": [
    {
     "data": {
      "text/plain": [
       "44146"
      ]
     },
     "execution_count": 102,
     "metadata": {},
     "output_type": "execute_result"
    }
   ],
   "source": [
    "len(dfc[dfc['M_Income'] > dfc_avg])"
   ]
  },
  {
   "cell_type": "markdown",
   "id": "5a6d9445",
   "metadata": {},
   "source": [
    "Вычислите медианный возраст заемщиков, которые не вернули кредит (defaulted=1). \n",
    "Он больше или меньше медианного возраста всех заемщиков?"
   ]
  },
  {
   "cell_type": "code",
   "execution_count": 32,
   "id": "b4adb9c2",
   "metadata": {},
   "outputs": [
    {
     "data": {
      "text/plain": [
       "defaulted\n",
       "0    52.0\n",
       "1    45.0\n",
       "Name: age, dtype: float64"
      ]
     },
     "execution_count": 32,
     "metadata": {},
     "output_type": "execute_result"
    }
   ],
   "source": [
    "dfc.groupby('defaulted')['age'].median()"
   ]
  },
  {
   "cell_type": "code",
   "execution_count": 33,
   "id": "a2140635",
   "metadata": {},
   "outputs": [
    {
     "name": "stdout",
     "output_type": "stream",
     "text": [
      "45.0\n"
     ]
    }
   ],
   "source": [
    "age1 = dfc[(dfc['defaulted']==1)].median()['age']\n",
    "print(age1)"
   ]
  },
  {
   "cell_type": "code",
   "execution_count": 21,
   "id": "512ba14d",
   "metadata": {},
   "outputs": [
    {
     "name": "stdout",
     "output_type": "stream",
     "text": [
      "52.0\n"
     ]
    }
   ],
   "source": [
    "age2 =dfc['age'].median()\n",
    "print(age2)"
   ]
  },
  {
   "cell_type": "code",
   "execution_count": 35,
   "id": "20f290b5",
   "metadata": {
    "scrolled": true
   },
   "outputs": [
    {
     "name": "stdout",
     "output_type": "stream",
     "text": [
      "разность возраста не вернувших кредит и всех заемщиков: -7.0\n"
     ]
    }
   ],
   "source": [
    "print('разность возраста не вернувших кредит и всех заемщиков:', age1 - age2)"
   ]
  },
  {
   "cell_type": "markdown",
   "id": "2ba2e13e",
   "metadata": {},
   "source": [
    "Сколько заемщиков старше 40 лет имеют ежемесячный доход больше среднего ежемесячного дохода по всей выборке?"
   ]
  },
  {
   "cell_type": "code",
   "execution_count": 74,
   "id": "c6acf46e",
   "metadata": {
    "scrolled": true
   },
   "outputs": [
    {
     "data": {
      "text/html": [
       "<div>\n",
       "<style scoped>\n",
       "    .dataframe tbody tr th:only-of-type {\n",
       "        vertical-align: middle;\n",
       "    }\n",
       "\n",
       "    .dataframe tbody tr th {\n",
       "        vertical-align: top;\n",
       "    }\n",
       "\n",
       "    .dataframe thead th {\n",
       "        text-align: right;\n",
       "    }\n",
       "</style>\n",
       "<table border=\"1\" class=\"dataframe\">\n",
       "  <thead>\n",
       "    <tr style=\"text-align: right;\">\n",
       "      <th></th>\n",
       "      <th>defaulted</th>\n",
       "      <th>age</th>\n",
       "      <th>DebtRatio</th>\n",
       "      <th>M_Income</th>\n",
       "      <th>OpenCrLines</th>\n",
       "      <th>RealEstateLoans</th>\n",
       "      <th>Dependents</th>\n",
       "      <th>age_group</th>\n",
       "    </tr>\n",
       "  </thead>\n",
       "  <tbody>\n",
       "    <tr>\n",
       "      <th>0</th>\n",
       "      <td>1</td>\n",
       "      <td>45</td>\n",
       "      <td>0.802982</td>\n",
       "      <td>9120.0</td>\n",
       "      <td>13</td>\n",
       "      <td>6</td>\n",
       "      <td>2.0</td>\n",
       "      <td>2</td>\n",
       "    </tr>\n",
       "    <tr>\n",
       "      <th>4</th>\n",
       "      <td>0</td>\n",
       "      <td>49</td>\n",
       "      <td>0.024926</td>\n",
       "      <td>63588.0</td>\n",
       "      <td>7</td>\n",
       "      <td>1</td>\n",
       "      <td>0.0</td>\n",
       "      <td>2</td>\n",
       "    </tr>\n",
       "    <tr>\n",
       "      <th>9</th>\n",
       "      <td>0</td>\n",
       "      <td>57</td>\n",
       "      <td>0.606291</td>\n",
       "      <td>23684.0</td>\n",
       "      <td>9</td>\n",
       "      <td>4</td>\n",
       "      <td>2.0</td>\n",
       "      <td>3</td>\n",
       "    </tr>\n",
       "    <tr>\n",
       "      <th>12</th>\n",
       "      <td>0</td>\n",
       "      <td>46</td>\n",
       "      <td>0.298354</td>\n",
       "      <td>12454.0</td>\n",
       "      <td>13</td>\n",
       "      <td>2</td>\n",
       "      <td>2.0</td>\n",
       "      <td>2</td>\n",
       "    </tr>\n",
       "    <tr>\n",
       "      <th>15</th>\n",
       "      <td>0</td>\n",
       "      <td>64</td>\n",
       "      <td>0.209892</td>\n",
       "      <td>11362.0</td>\n",
       "      <td>7</td>\n",
       "      <td>1</td>\n",
       "      <td>2.0</td>\n",
       "      <td>3</td>\n",
       "    </tr>\n",
       "    <tr>\n",
       "      <th>...</th>\n",
       "      <td>...</td>\n",
       "      <td>...</td>\n",
       "      <td>...</td>\n",
       "      <td>...</td>\n",
       "      <td>...</td>\n",
       "      <td>...</td>\n",
       "      <td>...</td>\n",
       "      <td>...</td>\n",
       "    </tr>\n",
       "    <tr>\n",
       "      <th>149979</th>\n",
       "      <td>1</td>\n",
       "      <td>55</td>\n",
       "      <td>0.057235</td>\n",
       "      <td>8700.0</td>\n",
       "      <td>7</td>\n",
       "      <td>0</td>\n",
       "      <td>0.0</td>\n",
       "      <td>3</td>\n",
       "    </tr>\n",
       "    <tr>\n",
       "      <th>149981</th>\n",
       "      <td>0</td>\n",
       "      <td>43</td>\n",
       "      <td>0.121752</td>\n",
       "      <td>6849.0</td>\n",
       "      <td>4</td>\n",
       "      <td>0</td>\n",
       "      <td>4.0</td>\n",
       "      <td>2</td>\n",
       "    </tr>\n",
       "    <tr>\n",
       "      <th>149989</th>\n",
       "      <td>0</td>\n",
       "      <td>62</td>\n",
       "      <td>0.001408</td>\n",
       "      <td>9233.0</td>\n",
       "      <td>4</td>\n",
       "      <td>0</td>\n",
       "      <td>3.0</td>\n",
       "      <td>3</td>\n",
       "    </tr>\n",
       "    <tr>\n",
       "      <th>149991</th>\n",
       "      <td>0</td>\n",
       "      <td>59</td>\n",
       "      <td>0.477658</td>\n",
       "      <td>10316.0</td>\n",
       "      <td>10</td>\n",
       "      <td>2</td>\n",
       "      <td>0.0</td>\n",
       "      <td>3</td>\n",
       "    </tr>\n",
       "    <tr>\n",
       "      <th>149999</th>\n",
       "      <td>0</td>\n",
       "      <td>64</td>\n",
       "      <td>0.249908</td>\n",
       "      <td>8158.0</td>\n",
       "      <td>8</td>\n",
       "      <td>2</td>\n",
       "      <td>0.0</td>\n",
       "      <td>3</td>\n",
       "    </tr>\n",
       "  </tbody>\n",
       "</table>\n",
       "<p>37629 rows × 8 columns</p>\n",
       "</div>"
      ],
      "text/plain": [
       "        defaulted  age  DebtRatio  M_Income  OpenCrLines  RealEstateLoans  \\\n",
       "0               1   45   0.802982    9120.0           13                6   \n",
       "4               0   49   0.024926   63588.0            7                1   \n",
       "9               0   57   0.606291   23684.0            9                4   \n",
       "12              0   46   0.298354   12454.0           13                2   \n",
       "15              0   64   0.209892   11362.0            7                1   \n",
       "...           ...  ...        ...       ...          ...              ...   \n",
       "149979          1   55   0.057235    8700.0            7                0   \n",
       "149981          0   43   0.121752    6849.0            4                0   \n",
       "149989          0   62   0.001408    9233.0            4                0   \n",
       "149991          0   59   0.477658   10316.0           10                2   \n",
       "149999          0   64   0.249908    8158.0            8                2   \n",
       "\n",
       "        Dependents  age_group  \n",
       "0              2.0          2  \n",
       "4              0.0          2  \n",
       "9              2.0          3  \n",
       "12             2.0          2  \n",
       "15             2.0          3  \n",
       "...            ...        ...  \n",
       "149979         0.0          3  \n",
       "149981         4.0          2  \n",
       "149989         3.0          3  \n",
       "149991         0.0          3  \n",
       "149999         0.0          3  \n",
       "\n",
       "[37629 rows x 8 columns]"
      ]
     },
     "execution_count": 74,
     "metadata": {},
     "output_type": "execute_result"
    }
   ],
   "source": [
    "avg = dfc['M_Income'].mean()\n",
    "\n",
    "dfc[(dfc['age']> 40) & (dfc['M_Income'] > avg)]"
   ]
  },
  {
   "cell_type": "code",
   "execution_count": null,
   "id": "48aa89ca",
   "metadata": {},
   "outputs": [],
   "source": []
  },
  {
   "cell_type": "markdown",
   "id": "077796bd",
   "metadata": {},
   "source": [
    "Вычисление новых признаков и группировка данных\n",
    "\n",
    "Разбить заемщиков на 3 возрастные группы:"
   ]
  },
  {
   "cell_type": "code",
   "execution_count": 96,
   "id": "4bf30b9f",
   "metadata": {},
   "outputs": [
    {
     "data": {
      "text/html": [
       "<div>\n",
       "<style scoped>\n",
       "    .dataframe tbody tr th:only-of-type {\n",
       "        vertical-align: middle;\n",
       "    }\n",
       "\n",
       "    .dataframe tbody tr th {\n",
       "        vertical-align: top;\n",
       "    }\n",
       "\n",
       "    .dataframe thead th {\n",
       "        text-align: right;\n",
       "    }\n",
       "</style>\n",
       "<table border=\"1\" class=\"dataframe\">\n",
       "  <thead>\n",
       "    <tr style=\"text-align: right;\">\n",
       "      <th></th>\n",
       "      <th>defaulted</th>\n",
       "      <th>age</th>\n",
       "      <th>DebtRatio</th>\n",
       "      <th>M_Income</th>\n",
       "      <th>OpenCrLines</th>\n",
       "      <th>RealEstateLoans</th>\n",
       "      <th>Dependents</th>\n",
       "    </tr>\n",
       "    <tr>\n",
       "      <th>age_group</th>\n",
       "      <th></th>\n",
       "      <th></th>\n",
       "      <th></th>\n",
       "      <th></th>\n",
       "      <th></th>\n",
       "      <th></th>\n",
       "      <th></th>\n",
       "    </tr>\n",
       "  </thead>\n",
       "  <tbody>\n",
       "    <tr>\n",
       "      <th>1</th>\n",
       "      <td>10758</td>\n",
       "      <td>10758</td>\n",
       "      <td>10758</td>\n",
       "      <td>9053</td>\n",
       "      <td>10758</td>\n",
       "      <td>10758</td>\n",
       "      <td>10328</td>\n",
       "    </tr>\n",
       "    <tr>\n",
       "      <th>2</th>\n",
       "      <td>59376</td>\n",
       "      <td>59376</td>\n",
       "      <td>59376</td>\n",
       "      <td>50600</td>\n",
       "      <td>59376</td>\n",
       "      <td>59376</td>\n",
       "      <td>58690</td>\n",
       "    </tr>\n",
       "    <tr>\n",
       "      <th>3</th>\n",
       "      <td>79866</td>\n",
       "      <td>79866</td>\n",
       "      <td>79866</td>\n",
       "      <td>60616</td>\n",
       "      <td>79866</td>\n",
       "      <td>79866</td>\n",
       "      <td>77058</td>\n",
       "    </tr>\n",
       "  </tbody>\n",
       "</table>\n",
       "</div>"
      ],
      "text/plain": [
       "           defaulted    age  DebtRatio  M_Income  OpenCrLines  \\\n",
       "age_group                                                       \n",
       "1              10758  10758      10758      9053        10758   \n",
       "2              59376  59376      59376     50600        59376   \n",
       "3              79866  79866      79866     60616        79866   \n",
       "\n",
       "           RealEstateLoans  Dependents  \n",
       "age_group                               \n",
       "1                    10758       10328  \n",
       "2                    59376       58690  \n",
       "3                    79866       77058  "
      ]
     },
     "execution_count": 96,
     "metadata": {},
     "output_type": "execute_result"
    }
   ],
   "source": [
    "splits = dfc.groupby('age_group')\n",
    "splits.count()"
   ]
  },
  {
   "cell_type": "markdown",
   "id": "60d01853",
   "metadata": {},
   "source": [
    "Количество заемщиков в каждой возрастной группе \n",
    "Визуализация данные в виде гистограммы"
   ]
  },
  {
   "cell_type": "code",
   "execution_count": 98,
   "id": "3f802002",
   "metadata": {},
   "outputs": [],
   "source": [
    "import matplotlib.pyplot as plt"
   ]
  },
  {
   "cell_type": "code",
   "execution_count": 99,
   "id": "908d0f3f",
   "metadata": {},
   "outputs": [],
   "source": [
    "%matplotlib inline"
   ]
  },
  {
   "cell_type": "code",
   "execution_count": 107,
   "id": "40ff7802",
   "metadata": {
    "scrolled": true
   },
   "outputs": [
    {
     "name": "stdout",
     "output_type": "stream",
     "text": [
      "3    79866\n",
      "2    59376\n",
      "1    10758\n",
      "Name: age_group, dtype: int64\n"
     ]
    }
   ],
   "source": [
    "age_g = dfc['age_group'].value_counts()\n",
    "print(age_g)"
   ]
  },
  {
   "cell_type": "code",
   "execution_count": 121,
   "id": "2e31d6be",
   "metadata": {
    "scrolled": true
   },
   "outputs": [
    {
     "data": {
      "image/png": "[encoded data removed]",
      "text/plain": [
       "<Figure size 432x288 with 1 Axes>"
      ]
     },
     "metadata": {
      "needs_background": "light"
     },
     "output_type": "display_data"
    }
   ],
   "source": [
    "plt.grid()\n",
    "plt.hist(age_g);"
   ]
  },
  {
   "cell_type": "code",
   "execution_count": 143,
   "id": "09d030f7",
   "metadata": {
    "scrolled": true
   },
   "outputs": [
    {
     "data": {
      "text/plain": [
       "defaulted  age_group\n",
       "0          3            76367\n",
       "           2            54093\n",
       "           1             9514\n",
       "1          2             5283\n",
       "           3             3499\n",
       "           1             1244\n",
       "Name: age_group, dtype: int64"
      ]
     },
     "execution_count": 143,
     "metadata": {},
     "output_type": "execute_result"
    }
   ],
   "source": [
    "dfc.groupby('defaulted')['age_group'].value_counts()"
   ]
  },
  {
   "cell_type": "code",
   "execution_count": 145,
   "id": "a16ac888",
   "metadata": {
    "scrolled": true
   },
   "outputs": [
    {
     "data": {
      "image/png": "[encoded data removed]",
      "text/plain": [
       "<Figure size 432x288 with 1 Axes>"
      ]
     },
     "metadata": {
      "needs_background": "light"
     },
     "output_type": "display_data"
    }
   ],
   "source": [
    "def_1 = dfc[dfc['defaulted']==1]['age_group'].value_counts()\n",
    "plt.hist(def_1);"
   ]
  }
 ],
 "metadata": {
  "kernelspec": {
   "display_name": "Python 3 (ipykernel)",
   "language": "python",
   "name": "python3"
  },
  "language_info": {
   "codemirror_mode": {
    "name": "ipython",
    "version": 3
   },
   "file_extension": ".py",
   "mimetype": "text/x-python",
   "name": "python",
   "nbconvert_exporter": "python",
   "pygments_lexer": "ipython3",
   "version": "3.9.12"
  }
 },
 "nbformat": 4,
 "nbformat_minor": 5
}
